{
 "cells": [
  {
   "cell_type": "code",
   "execution_count": 3,
   "metadata": {},
   "outputs": [
    {
     "name": "stdout",
     "output_type": "stream",
     "text": [
      "Joined text has been saved to ../data/Tipitaka English Translation\\Tipitaka.txt\n"
     ]
    }
   ],
   "source": [
    "import os\n",
    "\n",
    "# Directory containing the text files you want to join\n",
    "folder_path = '../data/Tipitaka English Translation'\n",
    "\n",
    "# Output file where the joined text will be saved\n",
    "output_file = 'Tipitaka.txt'\n",
    "\n",
    "# Initialize an empty string to store the joined text\n",
    "joined_text = \"\"\n",
    "\n",
    "# Iterate through all files in the folder\n",
    "for file_name in os.listdir(folder_path):\n",
    "    if file_name.endswith('.txt'):  # Check if the file is a text file\n",
    "        file_path = os.path.join(folder_path, file_name)\n",
    "        \n",
    "        with open(file_path, 'r', encoding='utf-8') as file:\n",
    "            file_content = file.read()\n",
    "            joined_text += file_content\n",
    "\n",
    "# Write the joined text to the output file\n",
    "output_path = os.path.join(folder_path, output_file)\n",
    "with open(output_path, 'w', encoding='utf-8') as output_file:\n",
    "    output_file.write(joined_text)\n",
    "\n"
   ]
  }
 ],
 "metadata": {
  "kernelspec": {
   "display_name": "NPL",
   "language": "python",
   "name": "python3"
  },
  "language_info": {
   "codemirror_mode": {
    "name": "ipython",
    "version": 3
   },
   "file_extension": ".py",
   "mimetype": "text/x-python",
   "name": "python",
   "nbconvert_exporter": "python",
   "pygments_lexer": "ipython3",
   "version": "3.9.18"
  }
 },
 "nbformat": 4,
 "nbformat_minor": 2
}
