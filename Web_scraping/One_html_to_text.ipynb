{
 "cells": [
  {
   "cell_type": "code",
   "execution_count": 1,
   "metadata": {},
   "outputs": [],
   "source": [
    "import requests\n",
    "from bs4 import BeautifulSoup\n",
    "\n",
    "def extract_text(url):\n",
    "    # Make a request to the provided URL and check for a response\n",
    "    response = requests.get(url)\n",
    "    if response.status_code != 200:\n",
    "        return \"Failed to retrieve the page.\"\n",
    "\n",
    "    # Use BeautifulSoup to parse the HTML content\n",
    "    soup = BeautifulSoup(response.text, 'html.parser')\n",
    "\n",
    "    # Empty string to store the extracted text\n",
    "    main_body_text = \"\"\n",
    "\n",
    "    # Find all <p> elements\n",
    "    paragraphs = soup.find_all('p')\n",
    "\n",
    "    # If we have retrieved content\n",
    "    if paragraphs:\n",
    "        # Iterate through each paragraph and add it to the main_body_text\n",
    "        for paragraph in paragraphs:\n",
    "            main_body_text += paragraph.get_text(strip=False)  # Use strip to remove leading/trailing whitespace\n",
    "            main_body_text += '\\n'  # Add a new line after each paragraph\n",
    "\n",
    "    return main_body_text\n",
    "\n",
    "\n",
    "url = 'https://terebess.hu/english/tao/gia.html#Kap02'\n",
    "main_text = extract_text(url)\n",
    "\n",
    "# Specify the file path for output including the filename\n",
    "output_path = \"../data/tao_te_ching.txt\"\n",
    "\n",
    "# Write the extracted text to the file\n",
    "with open(output_path, \"a\", encoding=\"utf-8\") as myfile:\n",
    "    myfile.write(main_text)\n",
    "\n",
    "\n",
    "#Based on wikipedia_scraper from week 6\n"
   ]
  }
 ],
 "metadata": {
  "kernelspec": {
   "display_name": "NPL",
   "language": "python",
   "name": "python3"
  },
  "language_info": {
   "codemirror_mode": {
    "name": "ipython",
    "version": 3
   },
   "file_extension": ".py",
   "mimetype": "text/x-python",
   "name": "python",
   "nbconvert_exporter": "python",
   "pygments_lexer": "ipython3",
   "version": "3.9.18"
  }
 },
 "nbformat": 4,
 "nbformat_minor": 2
}
