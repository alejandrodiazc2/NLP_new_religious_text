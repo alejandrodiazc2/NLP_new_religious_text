{
 "cells": [
  {
   "cell_type": "code",
   "execution_count": 1,
   "metadata": {},
   "outputs": [
    {
     "name": "stdout",
     "output_type": "stream",
     "text": [
      "Text has been extracted and saved to ../data\\Bhagavad_Gita.txt\n",
      "c:\\Users\\Zipa669\\Documents\\GitHub\\NLP_Project1\n"
     ]
    }
   ],
   "source": [
    "from bs4 import BeautifulSoup\n",
    "import requests\n",
    "import os\n",
    "\n",
    "\n",
    "url = 'https://www.gutenberg.org/files/2388/2388-h/2388-h.htm'\n",
    "response = requests.get(url)\n",
    "html_content = response.text\n",
    "\n",
    "soup = BeautifulSoup(html_content, 'html.parser')\n",
    "\n",
    "# Find all <p> tags \n",
    "paragraphs = soup.find_all('p')\n",
    "all_text = [para.get_text(strip=True) for para in paragraphs]\n",
    "\n",
    "\n",
    "combined_text = ' '.join(all_text)\n",
    "\n",
    "\n",
    "output_directory = '../data'\n",
    "output_filename = 'Bhagavad_Gita.txt'\n",
    "output_path = os.path.join(output_directory, output_filename)\n",
    "\n",
    "\n",
    "\n",
    "with open(output_path, 'w', encoding='utf-8') as file:\n",
    "    file.write(combined_text)\n",
    "\n",
    "\n"
   ]
  }
 ],
 "metadata": {
  "kernelspec": {
   "display_name": "NPL",
   "language": "python",
   "name": "python3"
  },
  "language_info": {
   "codemirror_mode": {
    "name": "ipython",
    "version": 3
   },
   "file_extension": ".py",
   "mimetype": "text/x-python",
   "name": "python",
   "nbconvert_exporter": "python",
   "pygments_lexer": "ipython3",
   "version": "3.9.18"
  }
 },
 "nbformat": 4,
 "nbformat_minor": 2
}
