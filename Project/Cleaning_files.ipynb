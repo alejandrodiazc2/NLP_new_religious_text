{
 "cells": [
  {
   "cell_type": "markdown",
   "metadata": {},
   "source": [
    "This code will go thorugh every file in the folder, load the documents and them perform a regex clean, to delete all the number and special characters  and saves the new files to a new folder. Now this data is ready to be lemmatized in a next step of the process."
   ]
  },
  {
   "cell_type": "code",
   "execution_count": 10,
   "metadata": {},
   "outputs": [
    {
     "name": "stdout",
     "output_type": "stream",
     "text": [
      "Cleaned texts saved to the \"../Examples_from_class/cleaned_texts_1\" folder.\n"
     ]
    }
   ],
   "source": [
    "import os\n",
    "import re\n",
    "\n",
    "# Define a function to remove numbers and special characters using regex//Function taken from Mayra\n",
    "def clean_tokenizar(text):\n",
    "    \n",
    "    new_text = text.lower()  # All lowercase\n",
    "    new_text = re.sub('http\\S+', ' ', new_text)  # Delete URLs\n",
    "    regex = '[\\\\!\\\\\"\\\\#\\\\$\\\\%\\\\&\\\\\\'\\\\(\\\\)\\\\*\\\\+\\\\,\\\\-\\\\.\\\\/\\\\:\\\\;\\\\<\\\\=\\\\>\\\\?\\\\@\\\\[\\\\\\\\\\\\]\\\\^_\\\\`\\\\{\\\\|\\\\}\\\\~]'\n",
    "    new_text = re.sub(regex, ' ', new_text)  # Eliminate punctuation\n",
    "    new_text = re.sub(\"\\d+\", ' ', new_text)  # Eliminate numbers\n",
    "    new_text = re.sub(\"\\\\s+\", ' ', new_text)  # Eliminate consecutive blank spaces\n",
    "    new_text = new_text.split(sep = ' ') #Tokenization of individual words\n",
    "    new_text = [token for token in new_text if len(token) > 1] #Eliminate tokens larger than 2\n",
    "\n",
    "    return new_text\n",
    "\n",
    "#save the cleaned files to have them ready\n",
    "\n",
    "def save_cleaned_texts(folder_path, output_folder):\n",
    "   \n",
    "    for root, _, files in os.walk(folder_path):\n",
    "        for file in files:\n",
    "            if file.endswith(\".txt\"):\n",
    "                with open(os.path.join(root, file), 'r', encoding='utf-8') as f:\n",
    "                    text = f.read()\n",
    "                cleaned_text = clean_tokenizar(text)\n",
    "                output_path = os.path.join(output_folder, file)\n",
    "                with open(output_path, 'w', encoding='utf-8') as output_file:\n",
    "                    output_file.write(' '.join(cleaned_text))\n",
    "\n",
    "folder_path = \"../data/Original_religious_texts\"\n",
    "output_folder = \"../Examples_from_class/cleaned_texts_1\"\n",
    "\n",
    "\n",
    "save_cleaned_texts(folder_path, output_folder)\n",
    "\n",
    "\n"
   ]
  }
 ],
 "metadata": {
  "kernelspec": {
   "display_name": "nlp",
   "language": "python",
   "name": "python3"
  },
  "language_info": {
   "codemirror_mode": {
    "name": "ipython",
    "version": 3
   },
   "file_extension": ".py",
   "mimetype": "text/x-python",
   "name": "python",
   "nbconvert_exporter": "python",
   "pygments_lexer": "ipython3",
   "version": "3.9.18"
  },
  "orig_nbformat": 4
 },
 "nbformat": 4,
 "nbformat_minor": 2
}
