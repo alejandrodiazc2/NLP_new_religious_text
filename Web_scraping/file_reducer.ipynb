{
 "cells": [
  {
   "cell_type": "code",
   "execution_count": 2,
   "metadata": {},
   "outputs": [],
   "source": [
    "def reduce_file_size(input_file_path):\n",
    "    # Read the entire content of the input file\n",
    "    with open(input_file_path, 'r', encoding='utf-8') as input_file:\n",
    "        file_content = input_file.read()\n",
    "\n",
    "    # Calculate the length of the file content\n",
    "    total_length = len(file_content)\n",
    "\n",
    "    # Determine the position where the last 70% of the content starts\n",
    "    cutoff_position = int(total_length * 0.5)  # Keep the first 30% of content\n",
    "\n",
    "    # Get the shortened content (first 30%)\n",
    "    shortened_content = file_content[:cutoff_position]\n",
    "\n",
    "    # Overwrite the input file with the shortened content\n",
    "    with open(input_file_path, 'w', encoding='utf-8') as output_file:\n",
    "        output_file.write(shortened_content)\n",
    "\n",
    "# Specify the path to your input file\n",
    "input_file_path = \"../data/Religious_texts/4. Tipitaka.txt\"\n",
    "\n",
    "# Call the function to reduce the file size\n",
    "reduce_file_size(input_file_path)\n",
    "\n",
    "#I used ChatGtp with this one, with the prompt: how to reduce the cut a txt document file and delete the last 70% of it?\n"
   ]
  }
 ],
 "metadata": {
  "kernelspec": {
   "display_name": "NPL",
   "language": "python",
   "name": "python3"
  },
  "language_info": {
   "codemirror_mode": {
    "name": "ipython",
    "version": 3
   },
   "file_extension": ".py",
   "mimetype": "text/x-python",
   "name": "python",
   "nbconvert_exporter": "python",
   "pygments_lexer": "ipython3",
   "version": "3.9.18"
  }
 },
 "nbformat": 4,
 "nbformat_minor": 2
}
