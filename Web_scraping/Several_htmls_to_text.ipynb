{
 "cells": [
  {
   "cell_type": "code",
   "execution_count": 4,
   "metadata": {},
   "outputs": [
    {
     "name": "stdout",
     "output_type": "stream",
     "text": [
      "Combined text from all URLs has been extracted and saved to ../data\\Writings_of_Bahaullah.txt\n"
     ]
    }
   ],
   "source": [
    "import requests\n",
    "from bs4 import BeautifulSoup\n",
    "import os\n",
    "\n",
    "def extract_main_body_text(url):\n",
    "    # Make a request to the provided URL and check for a response\n",
    "    response = requests.get(url)\n",
    "    if response.status_code != 200:\n",
    "        return \"Failed to retrieve the page.\"\n",
    "\n",
    "    # Use BeautifulSoup to parse the HTML content\n",
    "    soup = BeautifulSoup(response.text, 'html.parser')\n",
    "\n",
    "    # Empty string to store the extracted text\n",
    "    main_body_text = \"\"\n",
    "\n",
    "    # Find all <p> elements\n",
    "    paragraphs = soup.find_all('p')\n",
    "\n",
    "    # If we have retrieved content\n",
    "    if paragraphs:\n",
    "        # Iterate through each paragraph and add it to the main_body_text\n",
    "        for paragraph in paragraphs:\n",
    "            main_body_text += paragraph.get_text(strip=True)  # Use strip to remove leading/trailing whitespace\n",
    "            main_body_text += '\\n'  # Add a new line after each paragraph\n",
    "\n",
    "    return main_body_text\n",
    "\n",
    "def save_extracted_text_to_file(url, output_path):\n",
    "    main_text = extract_main_body_text(url)\n",
    "\n",
    "    # Write the extracted text to the file\n",
    "    with open(output_path, \"a\", encoding=\"utf-8\") as myfile:\n",
    "        myfile.write(main_text)\n",
    "\n",
    "# List of URLs to scrape\n",
    "urls = [\n",
    "    'https://www.bahai.org/library/authoritative-texts/bahaullah/call-divine-beloved/call-divine-beloved.xhtml?d40b8d74',\n",
    "    'https://www.bahai.org/library/authoritative-texts/bahaullah/days-remembrance/days-remembrance.xhtml?670870e5',\n",
    "    'https://www.bahai.org/library/authoritative-texts/bahaullah/epistle-son-wolf/epistle-son-wolf.xhtml?c6068bc6',\n",
    "    'https://www.bahai.org/library/authoritative-texts/bahaullah/gems-divine-mysteries/gems-divine-mysteries.xhtml?407ad4cc',\n",
    "    'https://www.bahai.org/library/authoritative-texts/bahaullah/gleanings-writings-bahaullah/gleanings-writings-bahaullah.xhtml?2ec12be3'\n",
    "    'https://www.bahai.org/library/authoritative-texts/bahaullah/hidden-words/hidden-words.xhtml?a309d680',\n",
    "    'https://www.bahai.org/library/authoritative-texts/bahaullah/kitab-i-aqdas/kitab-i-aqdas.xhtml?ac517bac',\n",
    "    'https://www.bahai.org/library/authoritative-texts/bahaullah/kitab-i-iqan/kitab-i-iqan.xhtml?6cac3607',\n",
    "    'https://www.bahai.org/library/authoritative-texts/bahaullah/prayers-meditations/prayers-meditations.xhtml?1e55bb05',\n",
    "    'https://www.bahai.org/library/authoritative-texts/bahaullah/summons-lord-hosts/summons-lord-hosts.xhtml?878662ed',\n",
    "    'https://www.bahai.org/library/authoritative-texts/bahaullah/tabernacle-unity/tabernacle-unity.xhtml?eaf3d0a8',\n",
    "    'https://www.bahai.org/library/authoritative-texts/bahaullah/tablets-bahaullah/tablets-bahaullah.xhtml?4090dc6c'\n",
    "]\n",
    "\n",
    "output_directory = '../data'\n",
    "\n",
    "if not os.path.exists(output_directory):\n",
    "    os.makedirs(output_directory)\n",
    "\n",
    "output_filename = 'Writings_of_Bahaullah.txt'\n",
    "output_path = os.path.join(output_directory, output_filename)\n",
    "\n",
    "# Iterate through the URLs and save extracted text to the file\n",
    "for url in urls:\n",
    "    save_extracted_text_to_file(url, output_path)\n",
    "\n",
    "\n",
    "\n",
    "\n"
   ]
  }
 ],
 "metadata": {
  "kernelspec": {
   "display_name": "NPL",
   "language": "python",
   "name": "python3"
  },
  "language_info": {
   "codemirror_mode": {
    "name": "ipython",
    "version": 3
   },
   "file_extension": ".py",
   "mimetype": "text/x-python",
   "name": "python",
   "nbconvert_exporter": "python",
   "pygments_lexer": "ipython3",
   "version": "3.9.18"
  }
 },
 "nbformat": 4,
 "nbformat_minor": 2
}
