{
 "cells": [
  {
   "cell_type": "code",
   "execution_count": 1,
   "metadata": {},
   "outputs": [
    {
     "name": "stdout",
     "output_type": "stream",
     "text": [
      "Combined text from all URLs has been extracted and saved to ../data\\9. Kojiki_Japan_1.txt\n"
     ]
    }
   ],
   "source": [
    "import requests\n",
    "from bs4 import BeautifulSoup\n",
    "import os\n",
    "\n",
    "def scrape_and_extract_text(url):\n",
    "    \n",
    "    response = requests.get(url)\n",
    "    \n",
    "    if response.status_code == 200:\n",
    "        # Use BeautifulSoup to parse the HTML content\n",
    "        soup = BeautifulSoup(response.content, 'html.parser')\n",
    "        \n",
    "        # Find all <p> elements\n",
    "        paragraphs = soup.find_all('p')\n",
    "        \n",
    "        # Extract and return the text from paragraphs\n",
    "        return \"\\n\".join(paragraph.get_text(strip=False) for paragraph in paragraphs)\n",
    "    \n",
    "    else:\n",
    "        print(f\"Failed to fetch page: {url}\")\n",
    "        return None\n",
    "\n",
    "def scrape_several(root, start, end, output_path):\n",
    "    all_text = \"\"\n",
    "\n",
    "    for page_number in range(start, end + 1):\n",
    "        url = f\"{root}{page_number:03d}.htm\"\n",
    "    \n",
    "        page_text = scrape_and_extract_text(url)\n",
    "        \n",
    "        if page_text is not None:\n",
    "            all_text += page_text + \"\\n\"\n",
    "\n",
    "    # Write the combined extracted text to the file\n",
    "    with open(output_path, 'w', encoding='utf-8') as file:\n",
    "        file.write(all_text)\n",
    "\n",
    "    print(f'Combined text from all URLs has been extracted and saved to {output_path}')\n",
    "\n",
    "root = \"https://sacred-texts.com/shi/kj/kj\"\n",
    "start = 1\n",
    "end = 189 #number of pages\n",
    "output_directory = '../data'\n",
    "\n",
    "output_filename = '9. Kojiki_Japan_1.txt'\n",
    "output_path = os.path.join(output_directory, output_filename)\n",
    "\n",
    "scrape_several(root, start, end, output_path)\n",
    "\n",
    "#Based on Wikipedia_scraping_notebook from the class and https://www.freecodecamp.org/news/how-to-scrape-multiple-web-pages-using-python/. I used CHATGtp \n",
    "\n"
   ]
  },
  {
   "cell_type": "code",
   "execution_count": null,
   "metadata": {},
   "outputs": [],
   "source": []
  }
 ],
 "metadata": {
  "kernelspec": {
   "display_name": "NPL",
   "language": "python",
   "name": "python3"
  },
  "language_info": {
   "codemirror_mode": {
    "name": "ipython",
    "version": 3
   },
   "file_extension": ".py",
   "mimetype": "text/x-python",
   "name": "python",
   "nbconvert_exporter": "python",
   "pygments_lexer": "ipython3",
   "version": "3.9.18"
  }
 },
 "nbformat": 4,
 "nbformat_minor": 2
}
